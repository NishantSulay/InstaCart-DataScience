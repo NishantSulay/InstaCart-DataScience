{
 "cells": [
  {
   "cell_type": "markdown",
   "id": "ad3d25e2-cc38-4492-a310-d4ef4c0945ce",
   "metadata": {},
   "source": [
    "# InstaCart Analysis & Reorder prediction\n",
    "\n",
    "Dataset source: \n",
    "https://www.kaggle.com/c/instacart-market-basket-analysis/data\n",
    "\n",
    "Objective: \n",
    "The dataset for this competition is a relational set of files describing customers' orders over time. The goal of the competition is to predict which products will be in a user's next order. The dataset is anonymized and contains a sample of over 3 million grocery orders from more than 200,000 Instacart users. For each user, we provide between 4 and 100 of their orders, with the sequence of products purchased in each order. We also provide the week and hour of day the order was placed, and a relative measure of time between orders. For more information, see the blog post accompanying its public release."
   ]
  },
  {
   "cell_type": "code",
   "execution_count": 1,
   "id": "bd795f4d-c73b-4e21-98ad-2ff03425e4e0",
   "metadata": {},
   "outputs": [],
   "source": [
    "import pandas as pd\n",
    "import numpy as np\n",
    "import matplotlib.pyplot as plt\n",
    "import seaborn as sns"
   ]
  },
  {
   "cell_type": "markdown",
   "id": "fff6946f-783e-4afe-b065-bda65927a246",
   "metadata": {},
   "source": [
    "## Import data "
   ]
  },
  {
   "cell_type": "code",
   "execution_count": 2,
   "id": "8a85b21f-dcf2-487f-95e6-20c693f8cc83",
   "metadata": {},
   "outputs": [],
   "source": [
    "orders = pd.read_csv(\"./instacart-market-basket-analysis/orders.csv\")\n",
    "products = pd.read_csv(\"./instacart-market-basket-analysis/products.csv\")\n",
    "departments = pd.read_csv(\"./instacart-market-basket-analysis/departments.csv\")\n",
    "aisles = pd.read_csv(\"./instacart-market-basket-analysis/aisles.csv\")\n",
    "sample_submission = pd.read_csv(\"./instacart-market-basket-analysis/sample_submission.csv\")\n",
    "order_products__prior = pd.read_csv(\"./instacart-market-basket-analysis/order_products__prior.csv\")\n",
    "order_products__train = pd.read_csv(\"./instacart-market-basket-analysis/order_products__train.csv\")"
   ]
  },
  {
   "cell_type": "markdown",
   "id": "6712911b-3914-4e83-a665-c3e0e5a8a290",
   "metadata": {},
   "source": [
    "## View data"
   ]
  },
  {
   "cell_type": "markdown",
   "id": "65adbb57-fd5a-4df2-b166-4ad98d5ffadf",
   "metadata": {},
   "source": [
    "### Orders "
   ]
  },
  {
   "cell_type": "code",
   "execution_count": 3,
   "id": "cc524714-ca8c-4f6a-aa19-02b0e6176fa3",
   "metadata": {},
   "outputs": [
    {
     "name": "stdout",
     "output_type": "stream",
     "text": [
      "(3421083, 7)\n",
      "order_id                       0\n",
      "user_id                        0\n",
      "eval_set                       0\n",
      "order_number                   0\n",
      "order_dow                      0\n",
      "order_hour_of_day              0\n",
      "days_since_prior_order    206209\n",
      "dtype: int64\n"
     ]
    },
    {
     "data": {
      "text/html": [
       "<div>\n",
       "<style scoped>\n",
       "    .dataframe tbody tr th:only-of-type {\n",
       "        vertical-align: middle;\n",
       "    }\n",
       "\n",
       "    .dataframe tbody tr th {\n",
       "        vertical-align: top;\n",
       "    }\n",
       "\n",
       "    .dataframe thead th {\n",
       "        text-align: right;\n",
       "    }\n",
       "</style>\n",
       "<table border=\"1\" class=\"dataframe\">\n",
       "  <thead>\n",
       "    <tr style=\"text-align: right;\">\n",
       "      <th></th>\n",
       "      <th>order_id</th>\n",
       "      <th>user_id</th>\n",
       "      <th>eval_set</th>\n",
       "      <th>order_number</th>\n",
       "      <th>order_dow</th>\n",
       "      <th>order_hour_of_day</th>\n",
       "      <th>days_since_prior_order</th>\n",
       "    </tr>\n",
       "  </thead>\n",
       "  <tbody>\n",
       "    <tr>\n",
       "      <th>0</th>\n",
       "      <td>2539329</td>\n",
       "      <td>1</td>\n",
       "      <td>prior</td>\n",
       "      <td>1</td>\n",
       "      <td>2</td>\n",
       "      <td>8</td>\n",
       "      <td>NaN</td>\n",
       "    </tr>\n",
       "    <tr>\n",
       "      <th>1</th>\n",
       "      <td>2398795</td>\n",
       "      <td>1</td>\n",
       "      <td>prior</td>\n",
       "      <td>2</td>\n",
       "      <td>3</td>\n",
       "      <td>7</td>\n",
       "      <td>15.0</td>\n",
       "    </tr>\n",
       "    <tr>\n",
       "      <th>2</th>\n",
       "      <td>473747</td>\n",
       "      <td>1</td>\n",
       "      <td>prior</td>\n",
       "      <td>3</td>\n",
       "      <td>3</td>\n",
       "      <td>12</td>\n",
       "      <td>21.0</td>\n",
       "    </tr>\n",
       "    <tr>\n",
       "      <th>3</th>\n",
       "      <td>2254736</td>\n",
       "      <td>1</td>\n",
       "      <td>prior</td>\n",
       "      <td>4</td>\n",
       "      <td>4</td>\n",
       "      <td>7</td>\n",
       "      <td>29.0</td>\n",
       "    </tr>\n",
       "    <tr>\n",
       "      <th>4</th>\n",
       "      <td>431534</td>\n",
       "      <td>1</td>\n",
       "      <td>prior</td>\n",
       "      <td>5</td>\n",
       "      <td>4</td>\n",
       "      <td>15</td>\n",
       "      <td>28.0</td>\n",
       "    </tr>\n",
       "  </tbody>\n",
       "</table>\n",
       "</div>"
      ],
      "text/plain": [
       "   order_id  user_id eval_set  order_number  order_dow  order_hour_of_day  \\\n",
       "0   2539329        1    prior             1          2                  8   \n",
       "1   2398795        1    prior             2          3                  7   \n",
       "2    473747        1    prior             3          3                 12   \n",
       "3   2254736        1    prior             4          4                  7   \n",
       "4    431534        1    prior             5          4                 15   \n",
       "\n",
       "   days_since_prior_order  \n",
       "0                     NaN  \n",
       "1                    15.0  \n",
       "2                    21.0  \n",
       "3                    29.0  \n",
       "4                    28.0  "
      ]
     },
     "execution_count": 3,
     "metadata": {},
     "output_type": "execute_result"
    }
   ],
   "source": [
    "print(orders.shape)\n",
    "print(orders.isnull().sum())\n",
    "# display(orders.describe())\n",
    "orders.head()"
   ]
  },
  {
   "cell_type": "markdown",
   "id": "92a6b275-fcc8-417b-b327-a77dbf869dac",
   "metadata": {},
   "source": [
    "### Products"
   ]
  },
  {
   "cell_type": "code",
   "execution_count": 4,
   "id": "232615b0-5581-49fc-b56c-1e66a7565951",
   "metadata": {},
   "outputs": [
    {
     "name": "stdout",
     "output_type": "stream",
     "text": [
      "(49688, 4)\n"
     ]
    },
    {
     "data": {
      "text/html": [
       "<div>\n",
       "<style scoped>\n",
       "    .dataframe tbody tr th:only-of-type {\n",
       "        vertical-align: middle;\n",
       "    }\n",
       "\n",
       "    .dataframe tbody tr th {\n",
       "        vertical-align: top;\n",
       "    }\n",
       "\n",
       "    .dataframe thead th {\n",
       "        text-align: right;\n",
       "    }\n",
       "</style>\n",
       "<table border=\"1\" class=\"dataframe\">\n",
       "  <thead>\n",
       "    <tr style=\"text-align: right;\">\n",
       "      <th></th>\n",
       "      <th>product_id</th>\n",
       "      <th>product_name</th>\n",
       "      <th>aisle_id</th>\n",
       "      <th>department_id</th>\n",
       "    </tr>\n",
       "  </thead>\n",
       "  <tbody>\n",
       "    <tr>\n",
       "      <th>0</th>\n",
       "      <td>1</td>\n",
       "      <td>Chocolate Sandwich Cookies</td>\n",
       "      <td>61</td>\n",
       "      <td>19</td>\n",
       "    </tr>\n",
       "    <tr>\n",
       "      <th>1</th>\n",
       "      <td>2</td>\n",
       "      <td>All-Seasons Salt</td>\n",
       "      <td>104</td>\n",
       "      <td>13</td>\n",
       "    </tr>\n",
       "    <tr>\n",
       "      <th>2</th>\n",
       "      <td>3</td>\n",
       "      <td>Robust Golden Unsweetened Oolong Tea</td>\n",
       "      <td>94</td>\n",
       "      <td>7</td>\n",
       "    </tr>\n",
       "    <tr>\n",
       "      <th>3</th>\n",
       "      <td>4</td>\n",
       "      <td>Smart Ones Classic Favorites Mini Rigatoni Wit...</td>\n",
       "      <td>38</td>\n",
       "      <td>1</td>\n",
       "    </tr>\n",
       "    <tr>\n",
       "      <th>4</th>\n",
       "      <td>5</td>\n",
       "      <td>Green Chile Anytime Sauce</td>\n",
       "      <td>5</td>\n",
       "      <td>13</td>\n",
       "    </tr>\n",
       "  </tbody>\n",
       "</table>\n",
       "</div>"
      ],
      "text/plain": [
       "   product_id                                       product_name  aisle_id  \\\n",
       "0           1                         Chocolate Sandwich Cookies        61   \n",
       "1           2                                   All-Seasons Salt       104   \n",
       "2           3               Robust Golden Unsweetened Oolong Tea        94   \n",
       "3           4  Smart Ones Classic Favorites Mini Rigatoni Wit...        38   \n",
       "4           5                          Green Chile Anytime Sauce         5   \n",
       "\n",
       "   department_id  \n",
       "0             19  \n",
       "1             13  \n",
       "2              7  \n",
       "3              1  \n",
       "4             13  "
      ]
     },
     "execution_count": 4,
     "metadata": {},
     "output_type": "execute_result"
    }
   ],
   "source": [
    "print(products.shape)\n",
    "products.head()"
   ]
  },
  {
   "cell_type": "markdown",
   "id": "d8c2aa83-f3d1-4d26-a4a8-814758525fef",
   "metadata": {},
   "source": [
    "### Departments"
   ]
  },
  {
   "cell_type": "code",
   "execution_count": 5,
   "id": "a6aed656-ed7f-4798-8b70-f18c40eda329",
   "metadata": {},
   "outputs": [
    {
     "name": "stdout",
     "output_type": "stream",
     "text": [
      "(21, 2)\n"
     ]
    },
    {
     "data": {
      "text/html": [
       "<div>\n",
       "<style scoped>\n",
       "    .dataframe tbody tr th:only-of-type {\n",
       "        vertical-align: middle;\n",
       "    }\n",
       "\n",
       "    .dataframe tbody tr th {\n",
       "        vertical-align: top;\n",
       "    }\n",
       "\n",
       "    .dataframe thead th {\n",
       "        text-align: right;\n",
       "    }\n",
       "</style>\n",
       "<table border=\"1\" class=\"dataframe\">\n",
       "  <thead>\n",
       "    <tr style=\"text-align: right;\">\n",
       "      <th></th>\n",
       "      <th>department_id</th>\n",
       "      <th>department</th>\n",
       "    </tr>\n",
       "  </thead>\n",
       "  <tbody>\n",
       "    <tr>\n",
       "      <th>0</th>\n",
       "      <td>1</td>\n",
       "      <td>frozen</td>\n",
       "    </tr>\n",
       "    <tr>\n",
       "      <th>1</th>\n",
       "      <td>2</td>\n",
       "      <td>other</td>\n",
       "    </tr>\n",
       "    <tr>\n",
       "      <th>2</th>\n",
       "      <td>3</td>\n",
       "      <td>bakery</td>\n",
       "    </tr>\n",
       "    <tr>\n",
       "      <th>3</th>\n",
       "      <td>4</td>\n",
       "      <td>produce</td>\n",
       "    </tr>\n",
       "    <tr>\n",
       "      <th>4</th>\n",
       "      <td>5</td>\n",
       "      <td>alcohol</td>\n",
       "    </tr>\n",
       "  </tbody>\n",
       "</table>\n",
       "</div>"
      ],
      "text/plain": [
       "   department_id department\n",
       "0              1     frozen\n",
       "1              2      other\n",
       "2              3     bakery\n",
       "3              4    produce\n",
       "4              5    alcohol"
      ]
     },
     "execution_count": 5,
     "metadata": {},
     "output_type": "execute_result"
    }
   ],
   "source": [
    "print(departments.shape)\n",
    "departments.head()"
   ]
  },
  {
   "cell_type": "markdown",
   "id": "02211e53-66bc-461f-8d6d-48c268152616",
   "metadata": {},
   "source": [
    "### Aisles"
   ]
  },
  {
   "cell_type": "code",
   "execution_count": 6,
   "id": "1d745a4d-35ba-4088-953a-fc7025a5e2e8",
   "metadata": {},
   "outputs": [
    {
     "name": "stdout",
     "output_type": "stream",
     "text": [
      "(134, 2)\n"
     ]
    },
    {
     "data": {
      "text/html": [
       "<div>\n",
       "<style scoped>\n",
       "    .dataframe tbody tr th:only-of-type {\n",
       "        vertical-align: middle;\n",
       "    }\n",
       "\n",
       "    .dataframe tbody tr th {\n",
       "        vertical-align: top;\n",
       "    }\n",
       "\n",
       "    .dataframe thead th {\n",
       "        text-align: right;\n",
       "    }\n",
       "</style>\n",
       "<table border=\"1\" class=\"dataframe\">\n",
       "  <thead>\n",
       "    <tr style=\"text-align: right;\">\n",
       "      <th></th>\n",
       "      <th>aisle_id</th>\n",
       "      <th>aisle</th>\n",
       "    </tr>\n",
       "  </thead>\n",
       "  <tbody>\n",
       "    <tr>\n",
       "      <th>0</th>\n",
       "      <td>1</td>\n",
       "      <td>prepared soups salads</td>\n",
       "    </tr>\n",
       "    <tr>\n",
       "      <th>1</th>\n",
       "      <td>2</td>\n",
       "      <td>specialty cheeses</td>\n",
       "    </tr>\n",
       "    <tr>\n",
       "      <th>2</th>\n",
       "      <td>3</td>\n",
       "      <td>energy granola bars</td>\n",
       "    </tr>\n",
       "    <tr>\n",
       "      <th>3</th>\n",
       "      <td>4</td>\n",
       "      <td>instant foods</td>\n",
       "    </tr>\n",
       "    <tr>\n",
       "      <th>4</th>\n",
       "      <td>5</td>\n",
       "      <td>marinades meat preparation</td>\n",
       "    </tr>\n",
       "  </tbody>\n",
       "</table>\n",
       "</div>"
      ],
      "text/plain": [
       "   aisle_id                       aisle\n",
       "0         1       prepared soups salads\n",
       "1         2           specialty cheeses\n",
       "2         3         energy granola bars\n",
       "3         4               instant foods\n",
       "4         5  marinades meat preparation"
      ]
     },
     "execution_count": 6,
     "metadata": {},
     "output_type": "execute_result"
    }
   ],
   "source": [
    "print(aisles.shape)\n",
    "aisles.head()"
   ]
  },
  {
   "cell_type": "markdown",
   "id": "2e5f980b-6eb5-4e3a-a396-7e88339afcaa",
   "metadata": {},
   "source": [
    "### Prior data of ordered products"
   ]
  },
  {
   "cell_type": "code",
   "execution_count": 7,
   "id": "4f222a6e-25a0-4259-8e4f-cf086e119222",
   "metadata": {},
   "outputs": [
    {
     "name": "stdout",
     "output_type": "stream",
     "text": [
      "(32434489, 4)\n"
     ]
    },
    {
     "data": {
      "text/html": [
       "<div>\n",
       "<style scoped>\n",
       "    .dataframe tbody tr th:only-of-type {\n",
       "        vertical-align: middle;\n",
       "    }\n",
       "\n",
       "    .dataframe tbody tr th {\n",
       "        vertical-align: top;\n",
       "    }\n",
       "\n",
       "    .dataframe thead th {\n",
       "        text-align: right;\n",
       "    }\n",
       "</style>\n",
       "<table border=\"1\" class=\"dataframe\">\n",
       "  <thead>\n",
       "    <tr style=\"text-align: right;\">\n",
       "      <th></th>\n",
       "      <th>order_id</th>\n",
       "      <th>product_id</th>\n",
       "      <th>add_to_cart_order</th>\n",
       "      <th>reordered</th>\n",
       "    </tr>\n",
       "  </thead>\n",
       "  <tbody>\n",
       "    <tr>\n",
       "      <th>0</th>\n",
       "      <td>2</td>\n",
       "      <td>33120</td>\n",
       "      <td>1</td>\n",
       "      <td>1</td>\n",
       "    </tr>\n",
       "    <tr>\n",
       "      <th>1</th>\n",
       "      <td>2</td>\n",
       "      <td>28985</td>\n",
       "      <td>2</td>\n",
       "      <td>1</td>\n",
       "    </tr>\n",
       "    <tr>\n",
       "      <th>2</th>\n",
       "      <td>2</td>\n",
       "      <td>9327</td>\n",
       "      <td>3</td>\n",
       "      <td>0</td>\n",
       "    </tr>\n",
       "    <tr>\n",
       "      <th>3</th>\n",
       "      <td>2</td>\n",
       "      <td>45918</td>\n",
       "      <td>4</td>\n",
       "      <td>1</td>\n",
       "    </tr>\n",
       "    <tr>\n",
       "      <th>4</th>\n",
       "      <td>2</td>\n",
       "      <td>30035</td>\n",
       "      <td>5</td>\n",
       "      <td>0</td>\n",
       "    </tr>\n",
       "  </tbody>\n",
       "</table>\n",
       "</div>"
      ],
      "text/plain": [
       "   order_id  product_id  add_to_cart_order  reordered\n",
       "0         2       33120                  1          1\n",
       "1         2       28985                  2          1\n",
       "2         2        9327                  3          0\n",
       "3         2       45918                  4          1\n",
       "4         2       30035                  5          0"
      ]
     },
     "execution_count": 7,
     "metadata": {},
     "output_type": "execute_result"
    }
   ],
   "source": [
    "print(order_products__prior.shape)\n",
    "order_products__prior.head()"
   ]
  },
  {
   "cell_type": "markdown",
   "id": "e2c2e910-72bb-4694-9a82-3424ad5b48ed",
   "metadata": {},
   "source": [
    "### Training data of ordered products"
   ]
  },
  {
   "cell_type": "code",
   "execution_count": 8,
   "id": "9572ad79-242a-4277-88c2-e8a5aadf5102",
   "metadata": {},
   "outputs": [
    {
     "name": "stdout",
     "output_type": "stream",
     "text": [
      "(1384617, 4)\n"
     ]
    },
    {
     "data": {
      "text/html": [
       "<div>\n",
       "<style scoped>\n",
       "    .dataframe tbody tr th:only-of-type {\n",
       "        vertical-align: middle;\n",
       "    }\n",
       "\n",
       "    .dataframe tbody tr th {\n",
       "        vertical-align: top;\n",
       "    }\n",
       "\n",
       "    .dataframe thead th {\n",
       "        text-align: right;\n",
       "    }\n",
       "</style>\n",
       "<table border=\"1\" class=\"dataframe\">\n",
       "  <thead>\n",
       "    <tr style=\"text-align: right;\">\n",
       "      <th></th>\n",
       "      <th>order_id</th>\n",
       "      <th>product_id</th>\n",
       "      <th>add_to_cart_order</th>\n",
       "      <th>reordered</th>\n",
       "    </tr>\n",
       "  </thead>\n",
       "  <tbody>\n",
       "    <tr>\n",
       "      <th>0</th>\n",
       "      <td>1</td>\n",
       "      <td>49302</td>\n",
       "      <td>1</td>\n",
       "      <td>1</td>\n",
       "    </tr>\n",
       "    <tr>\n",
       "      <th>1</th>\n",
       "      <td>1</td>\n",
       "      <td>11109</td>\n",
       "      <td>2</td>\n",
       "      <td>1</td>\n",
       "    </tr>\n",
       "    <tr>\n",
       "      <th>2</th>\n",
       "      <td>1</td>\n",
       "      <td>10246</td>\n",
       "      <td>3</td>\n",
       "      <td>0</td>\n",
       "    </tr>\n",
       "    <tr>\n",
       "      <th>3</th>\n",
       "      <td>1</td>\n",
       "      <td>49683</td>\n",
       "      <td>4</td>\n",
       "      <td>0</td>\n",
       "    </tr>\n",
       "    <tr>\n",
       "      <th>4</th>\n",
       "      <td>1</td>\n",
       "      <td>43633</td>\n",
       "      <td>5</td>\n",
       "      <td>1</td>\n",
       "    </tr>\n",
       "  </tbody>\n",
       "</table>\n",
       "</div>"
      ],
      "text/plain": [
       "   order_id  product_id  add_to_cart_order  reordered\n",
       "0         1       49302                  1          1\n",
       "1         1       11109                  2          1\n",
       "2         1       10246                  3          0\n",
       "3         1       49683                  4          0\n",
       "4         1       43633                  5          1"
      ]
     },
     "execution_count": 8,
     "metadata": {},
     "output_type": "execute_result"
    }
   ],
   "source": [
    "print(order_products__train.shape)\n",
    "order_products__train.head()"
   ]
  },
  {
   "cell_type": "code",
   "execution_count": null,
   "id": "0f05f86c-3e60-4f8d-bab1-65b3b3ef7cf5",
   "metadata": {},
   "outputs": [],
   "source": []
  },
  {
   "cell_type": "markdown",
   "id": "8e04687a-53b4-4228-bffd-cc82c60a44d5",
   "metadata": {},
   "source": [
    "## Data manipulation/cleaning\n",
    "### Combine tables to a master table.\n",
    "\n",
    "1. Merge products and aisles on product_id\n",
    "2. Merge products and departments on department_id\n",
    "3. Concat orders prior and orders train tables to master table\n",
    "4. Merge new products table from 1 & 2 with master table from 3."
   ]
  },
  {
   "cell_type": "code",
   "execution_count": 9,
   "id": "c2e0936a-d80a-479d-897d-421d51971f0b",
   "metadata": {},
   "outputs": [],
   "source": [
    "products_new = pd.merge(left=products, right=aisles, on=[\"aisle_id\"]).sort_values(by=['product_id']).reset_index(drop=True)\n",
    "product = pd.merge(left=products_new, right=departments, on=[\"department_id\"]).sort_values(by=[\"product_id\"]).reset_index(drop=True)\n"
   ]
  },
  {
   "cell_type": "code",
   "execution_count": 10,
   "id": "42c02624-1697-49ce-8614-4f73b2122199",
   "metadata": {},
   "outputs": [],
   "source": [
    "master_df = pd.concat([order_products__prior, order_products__train]).sort_values(by=['order_id'])\n",
    "\n",
    "master_df = pd.merge(left = master_df, right = product,\n",
    "                             on='product_id').sort_values(by=['order_id']).reset_index(drop=True)    \n",
    "\n",
    "master_df = pd.merge(left=master_df, right= orders, on=['order_id']).sort_values(by=['order_id']).reset_index(drop=True)"
   ]
  },
  {
   "cell_type": "code",
   "execution_count": 11,
   "id": "84ad8611-875a-4d6f-a0ed-bdd693cca667",
   "metadata": {},
   "outputs": [
    {
     "data": {
      "text/html": [
       "<div>\n",
       "<style scoped>\n",
       "    .dataframe tbody tr th:only-of-type {\n",
       "        vertical-align: middle;\n",
       "    }\n",
       "\n",
       "    .dataframe tbody tr th {\n",
       "        vertical-align: top;\n",
       "    }\n",
       "\n",
       "    .dataframe thead th {\n",
       "        text-align: right;\n",
       "    }\n",
       "</style>\n",
       "<table border=\"1\" class=\"dataframe\">\n",
       "  <thead>\n",
       "    <tr style=\"text-align: right;\">\n",
       "      <th></th>\n",
       "      <th>order_id</th>\n",
       "      <th>product_id</th>\n",
       "      <th>add_to_cart_order</th>\n",
       "      <th>reordered</th>\n",
       "      <th>product_name</th>\n",
       "      <th>aisle_id</th>\n",
       "      <th>department_id</th>\n",
       "      <th>aisle</th>\n",
       "      <th>department</th>\n",
       "      <th>user_id</th>\n",
       "      <th>eval_set</th>\n",
       "      <th>order_number</th>\n",
       "      <th>order_dow</th>\n",
       "      <th>order_hour_of_day</th>\n",
       "      <th>days_since_prior_order</th>\n",
       "    </tr>\n",
       "  </thead>\n",
       "  <tbody>\n",
       "    <tr>\n",
       "      <th>0</th>\n",
       "      <td>1</td>\n",
       "      <td>49302</td>\n",
       "      <td>1</td>\n",
       "      <td>1</td>\n",
       "      <td>Bulgarian Yogurt</td>\n",
       "      <td>120</td>\n",
       "      <td>16</td>\n",
       "      <td>yogurt</td>\n",
       "      <td>dairy eggs</td>\n",
       "      <td>112108</td>\n",
       "      <td>train</td>\n",
       "      <td>4</td>\n",
       "      <td>4</td>\n",
       "      <td>10</td>\n",
       "      <td>9.0</td>\n",
       "    </tr>\n",
       "    <tr>\n",
       "      <th>1</th>\n",
       "      <td>1</td>\n",
       "      <td>43633</td>\n",
       "      <td>5</td>\n",
       "      <td>1</td>\n",
       "      <td>Lightly Smoked Sardines in Olive Oil</td>\n",
       "      <td>95</td>\n",
       "      <td>15</td>\n",
       "      <td>canned meat seafood</td>\n",
       "      <td>canned goods</td>\n",
       "      <td>112108</td>\n",
       "      <td>train</td>\n",
       "      <td>4</td>\n",
       "      <td>4</td>\n",
       "      <td>10</td>\n",
       "      <td>9.0</td>\n",
       "    </tr>\n",
       "    <tr>\n",
       "      <th>2</th>\n",
       "      <td>1</td>\n",
       "      <td>13176</td>\n",
       "      <td>6</td>\n",
       "      <td>0</td>\n",
       "      <td>Bag of Organic Bananas</td>\n",
       "      <td>24</td>\n",
       "      <td>4</td>\n",
       "      <td>fresh fruits</td>\n",
       "      <td>produce</td>\n",
       "      <td>112108</td>\n",
       "      <td>train</td>\n",
       "      <td>4</td>\n",
       "      <td>4</td>\n",
       "      <td>10</td>\n",
       "      <td>9.0</td>\n",
       "    </tr>\n",
       "    <tr>\n",
       "      <th>3</th>\n",
       "      <td>1</td>\n",
       "      <td>47209</td>\n",
       "      <td>7</td>\n",
       "      <td>0</td>\n",
       "      <td>Organic Hass Avocado</td>\n",
       "      <td>24</td>\n",
       "      <td>4</td>\n",
       "      <td>fresh fruits</td>\n",
       "      <td>produce</td>\n",
       "      <td>112108</td>\n",
       "      <td>train</td>\n",
       "      <td>4</td>\n",
       "      <td>4</td>\n",
       "      <td>10</td>\n",
       "      <td>9.0</td>\n",
       "    </tr>\n",
       "    <tr>\n",
       "      <th>4</th>\n",
       "      <td>1</td>\n",
       "      <td>22035</td>\n",
       "      <td>8</td>\n",
       "      <td>1</td>\n",
       "      <td>Organic Whole String Cheese</td>\n",
       "      <td>21</td>\n",
       "      <td>16</td>\n",
       "      <td>packaged cheese</td>\n",
       "      <td>dairy eggs</td>\n",
       "      <td>112108</td>\n",
       "      <td>train</td>\n",
       "      <td>4</td>\n",
       "      <td>4</td>\n",
       "      <td>10</td>\n",
       "      <td>9.0</td>\n",
       "    </tr>\n",
       "  </tbody>\n",
       "</table>\n",
       "</div>"
      ],
      "text/plain": [
       "   order_id  product_id  add_to_cart_order  reordered  \\\n",
       "0         1       49302                  1          1   \n",
       "1         1       43633                  5          1   \n",
       "2         1       13176                  6          0   \n",
       "3         1       47209                  7          0   \n",
       "4         1       22035                  8          1   \n",
       "\n",
       "                           product_name  aisle_id  department_id  \\\n",
       "0                      Bulgarian Yogurt       120             16   \n",
       "1  Lightly Smoked Sardines in Olive Oil        95             15   \n",
       "2                Bag of Organic Bananas        24              4   \n",
       "3                  Organic Hass Avocado        24              4   \n",
       "4           Organic Whole String Cheese        21             16   \n",
       "\n",
       "                 aisle    department  user_id eval_set  order_number  \\\n",
       "0               yogurt    dairy eggs   112108    train             4   \n",
       "1  canned meat seafood  canned goods   112108    train             4   \n",
       "2         fresh fruits       produce   112108    train             4   \n",
       "3         fresh fruits       produce   112108    train             4   \n",
       "4      packaged cheese    dairy eggs   112108    train             4   \n",
       "\n",
       "   order_dow  order_hour_of_day  days_since_prior_order  \n",
       "0          4                 10                     9.0  \n",
       "1          4                 10                     9.0  \n",
       "2          4                 10                     9.0  \n",
       "3          4                 10                     9.0  \n",
       "4          4                 10                     9.0  "
      ]
     },
     "execution_count": 11,
     "metadata": {},
     "output_type": "execute_result"
    }
   ],
   "source": [
    "master_df.head()"
   ]
  },
  {
   "cell_type": "code",
   "execution_count": 12,
   "id": "fa7cc358-00ea-4d09-9cb6-46e42859ffeb",
   "metadata": {},
   "outputs": [
    {
     "data": {
      "text/html": [
       "<div>\n",
       "<style scoped>\n",
       "    .dataframe tbody tr th:only-of-type {\n",
       "        vertical-align: middle;\n",
       "    }\n",
       "\n",
       "    .dataframe tbody tr th {\n",
       "        vertical-align: top;\n",
       "    }\n",
       "\n",
       "    .dataframe thead th {\n",
       "        text-align: right;\n",
       "    }\n",
       "</style>\n",
       "<table border=\"1\" class=\"dataframe\">\n",
       "  <thead>\n",
       "    <tr style=\"text-align: right;\">\n",
       "      <th>order_number</th>\n",
       "      <th>1</th>\n",
       "      <th>2</th>\n",
       "      <th>3</th>\n",
       "      <th>4</th>\n",
       "      <th>5</th>\n",
       "      <th>6</th>\n",
       "      <th>7</th>\n",
       "      <th>8</th>\n",
       "      <th>9</th>\n",
       "      <th>10</th>\n",
       "      <th>11</th>\n",
       "      <th>12</th>\n",
       "      <th>13</th>\n",
       "      <th>14</th>\n",
       "      <th>15</th>\n",
       "      <th>16</th>\n",
       "      <th>17</th>\n",
       "      <th>18</th>\n",
       "      <th>19</th>\n",
       "      <th>20</th>\n",
       "    </tr>\n",
       "    <tr>\n",
       "      <th>user_id</th>\n",
       "      <th></th>\n",
       "      <th></th>\n",
       "      <th></th>\n",
       "      <th></th>\n",
       "      <th></th>\n",
       "      <th></th>\n",
       "      <th></th>\n",
       "      <th></th>\n",
       "      <th></th>\n",
       "      <th></th>\n",
       "      <th></th>\n",
       "      <th></th>\n",
       "      <th></th>\n",
       "      <th></th>\n",
       "      <th></th>\n",
       "      <th></th>\n",
       "      <th></th>\n",
       "      <th></th>\n",
       "      <th></th>\n",
       "      <th></th>\n",
       "    </tr>\n",
       "  </thead>\n",
       "  <tbody>\n",
       "    <tr>\n",
       "      <th>1</th>\n",
       "      <td>prior</td>\n",
       "      <td>prior</td>\n",
       "      <td>prior</td>\n",
       "      <td>prior</td>\n",
       "      <td>prior</td>\n",
       "      <td>prior</td>\n",
       "      <td>prior</td>\n",
       "      <td>prior</td>\n",
       "      <td>prior</td>\n",
       "      <td>prior</td>\n",
       "      <td>train</td>\n",
       "      <td></td>\n",
       "      <td></td>\n",
       "      <td></td>\n",
       "      <td></td>\n",
       "      <td></td>\n",
       "      <td></td>\n",
       "      <td></td>\n",
       "      <td></td>\n",
       "      <td></td>\n",
       "    </tr>\n",
       "    <tr>\n",
       "      <th>2</th>\n",
       "      <td>prior</td>\n",
       "      <td>prior</td>\n",
       "      <td>prior</td>\n",
       "      <td>prior</td>\n",
       "      <td>prior</td>\n",
       "      <td>prior</td>\n",
       "      <td>prior</td>\n",
       "      <td>prior</td>\n",
       "      <td>prior</td>\n",
       "      <td>prior</td>\n",
       "      <td>prior</td>\n",
       "      <td>prior</td>\n",
       "      <td>prior</td>\n",
       "      <td>prior</td>\n",
       "      <td>train</td>\n",
       "      <td></td>\n",
       "      <td></td>\n",
       "      <td></td>\n",
       "      <td></td>\n",
       "      <td></td>\n",
       "    </tr>\n",
       "    <tr>\n",
       "      <th>3</th>\n",
       "      <td>prior</td>\n",
       "      <td>prior</td>\n",
       "      <td>prior</td>\n",
       "      <td>prior</td>\n",
       "      <td>prior</td>\n",
       "      <td>prior</td>\n",
       "      <td>prior</td>\n",
       "      <td>prior</td>\n",
       "      <td>prior</td>\n",
       "      <td>prior</td>\n",
       "      <td>prior</td>\n",
       "      <td>prior</td>\n",
       "      <td></td>\n",
       "      <td></td>\n",
       "      <td></td>\n",
       "      <td></td>\n",
       "      <td></td>\n",
       "      <td></td>\n",
       "      <td></td>\n",
       "      <td></td>\n",
       "    </tr>\n",
       "    <tr>\n",
       "      <th>4</th>\n",
       "      <td>prior</td>\n",
       "      <td>prior</td>\n",
       "      <td>prior</td>\n",
       "      <td>prior</td>\n",
       "      <td>prior</td>\n",
       "      <td></td>\n",
       "      <td></td>\n",
       "      <td></td>\n",
       "      <td></td>\n",
       "      <td></td>\n",
       "      <td></td>\n",
       "      <td></td>\n",
       "      <td></td>\n",
       "      <td></td>\n",
       "      <td></td>\n",
       "      <td></td>\n",
       "      <td></td>\n",
       "      <td></td>\n",
       "      <td></td>\n",
       "      <td></td>\n",
       "    </tr>\n",
       "    <tr>\n",
       "      <th>5</th>\n",
       "      <td>prior</td>\n",
       "      <td>prior</td>\n",
       "      <td>prior</td>\n",
       "      <td>prior</td>\n",
       "      <td>train</td>\n",
       "      <td></td>\n",
       "      <td></td>\n",
       "      <td></td>\n",
       "      <td></td>\n",
       "      <td></td>\n",
       "      <td></td>\n",
       "      <td></td>\n",
       "      <td></td>\n",
       "      <td></td>\n",
       "      <td></td>\n",
       "      <td></td>\n",
       "      <td></td>\n",
       "      <td></td>\n",
       "      <td></td>\n",
       "      <td></td>\n",
       "    </tr>\n",
       "  </tbody>\n",
       "</table>\n",
       "</div>"
      ],
      "text/plain": [
       "order_number     1      2      3      4      5      6      7      8      9   \\\n",
       "user_id                                                                       \n",
       "1             prior  prior  prior  prior  prior  prior  prior  prior  prior   \n",
       "2             prior  prior  prior  prior  prior  prior  prior  prior  prior   \n",
       "3             prior  prior  prior  prior  prior  prior  prior  prior  prior   \n",
       "4             prior  prior  prior  prior  prior                               \n",
       "5             prior  prior  prior  prior  train                               \n",
       "\n",
       "order_number     10     11     12     13     14     15 16 17 18 19 20  \n",
       "user_id                                                                \n",
       "1             prior  train                                             \n",
       "2             prior  prior  prior  prior  prior  train                 \n",
       "3             prior  prior  prior                                      \n",
       "4                                                                      \n",
       "5                                                                      "
      ]
     },
     "execution_count": 12,
     "metadata": {},
     "output_type": "execute_result"
    }
   ],
   "source": [
    "# Show prior/train data based on user_id and order numbers\n",
    "\n",
    "data = master_df.pivot_table(values='eval_set', index = ['user_id'], columns=['order_number'], aggfunc='first', dropna=True).fillna('')\n",
    "data.iloc[:, :20].head(5)"
   ]
  },
  {
   "cell_type": "markdown",
   "id": "70009716-13c8-45b5-aa2f-803df4f2f3fb",
   "metadata": {},
   "source": [
    "### Replace NaN values "
   ]
  },
  {
   "cell_type": "code",
   "execution_count": 13,
   "id": "84fc2e31-fcac-4675-8191-aa5e36c326be",
   "metadata": {},
   "outputs": [
    {
     "name": "stdout",
     "output_type": "stream",
     "text": [
      "order_id                        0\n",
      "product_id                      0\n",
      "add_to_cart_order               0\n",
      "reordered                       0\n",
      "product_name                    0\n",
      "aisle_id                        0\n",
      "department_id                   0\n",
      "aisle                           0\n",
      "department                      0\n",
      "user_id                         0\n",
      "eval_set                        0\n",
      "order_number                    0\n",
      "order_dow                       0\n",
      "order_hour_of_day               0\n",
      "days_since_prior_order    2078068\n",
      "dtype: int64\n"
     ]
    }
   ],
   "source": [
    "print(master_df.isnull().sum())"
   ]
  },
  {
   "cell_type": "code",
   "execution_count": 14,
   "id": "3112bd70-5a9e-4606-b5bb-93f2a38c8b1e",
   "metadata": {},
   "outputs": [
    {
     "name": "stdout",
     "output_type": "stream",
     "text": [
      "order_id                  0\n",
      "product_id                0\n",
      "add_to_cart_order         0\n",
      "reordered                 0\n",
      "product_name              0\n",
      "aisle_id                  0\n",
      "department_id             0\n",
      "aisle                     0\n",
      "department                0\n",
      "user_id                   0\n",
      "eval_set                  0\n",
      "order_number              0\n",
      "order_dow                 0\n",
      "order_hour_of_day         0\n",
      "days_since_prior_order    0\n",
      "dtype: int64\n"
     ]
    }
   ],
   "source": [
    "master_df.loc[master_df['order_number']== 1,'days_since_prior_order'] = 0\n",
    "print(master_df.isnull().sum())"
   ]
  },
  {
   "cell_type": "markdown",
   "id": "b29fb446-a811-4664-a10d-cda2a6cfd025",
   "metadata": {},
   "source": [
    "## Data stats"
   ]
  },
  {
   "cell_type": "code",
   "execution_count": 15,
   "id": "c41ec31b-bae4-482a-9151-f01544040b74",
   "metadata": {},
   "outputs": [
    {
     "name": "stdout",
     "output_type": "stream",
     "text": [
      "\n",
      "Number of Rows :  33819106\n",
      "Unique user_id:  206209\n",
      "Unique order_id:  3346083\n",
      "Unique product_id:  49685\n",
      "Unique aisle_id:  134\n",
      "Unique department_id:  21\n",
      "Unique add_to_cart_order:  145\n",
      "Unique reordered:  2\n",
      "Unique product_name:  49685\n",
      "Unique aisle:  134\n",
      "Unique department:  21\n",
      "Unique eval_set:  2\n",
      "Unique order_number:  100\n",
      "Unique order_dow:  7\n",
      "Unique order_hour_of_day:  24\n",
      "Unique days_since_prior_order:  31\n"
     ]
    }
   ],
   "source": [
    "print (\"\\nNumber of Rows : \", len(master_df))\n",
    "print (\"Unique user_id: \", master_df['user_id'].nunique())\n",
    "print (\"Unique order_id: \", master_df['order_id'].nunique())\n",
    "print (\"Unique product_id: \", master_df['product_id'].nunique())\n",
    "print (\"Unique aisle_id: \", master_df['aisle_id'].nunique())\n",
    "print (\"Unique department_id: \", master_df['department_id'].nunique())\n",
    "print (\"Unique add_to_cart_order: \", master_df['add_to_cart_order'].nunique())\n",
    "print (\"Unique reordered: \", master_df['reordered'].nunique())\n",
    "print (\"Unique product_name: \", master_df['product_name'].nunique())\n",
    "print (\"Unique aisle: \", master_df['aisle'].nunique())\n",
    "print (\"Unique department: \", master_df['department'].nunique())\n",
    "print (\"Unique eval_set: \", master_df['eval_set'].nunique())\n",
    "print (\"Unique order_number: \", master_df['order_number'].nunique())\n",
    "print (\"Unique order_dow: \", master_df['order_dow'].nunique())\n",
    "print (\"Unique order_hour_of_day: \", master_df['order_hour_of_day'].nunique())\n",
    "print (\"Unique days_since_prior_order: \", master_df['days_since_prior_order'].nunique())"
   ]
  },
  {
   "cell_type": "markdown",
   "id": "873aaf32-bda4-4893-ab13-ad4bdd9455b0",
   "metadata": {},
   "source": [
    "## EDA\n",
    "\n",
    "1. How many orders are made by a single user?\n",
    "2. What is the cart size across orders?\n",
    "3. What are the most popular ordered products?\n",
    "4. Which aisles do users order the most from?\n",
    "\n"
   ]
  },
  {
   "cell_type": "code",
   "execution_count": 47,
   "id": "96649c36-4221-4f2c-a150-f6f02f271121",
   "metadata": {},
   "outputs": [
    {
     "data": {
      "text/html": [
       "<div>\n",
       "<style scoped>\n",
       "    .dataframe tbody tr th:only-of-type {\n",
       "        vertical-align: middle;\n",
       "    }\n",
       "\n",
       "    .dataframe tbody tr th {\n",
       "        vertical-align: top;\n",
       "    }\n",
       "\n",
       "    .dataframe thead th {\n",
       "        text-align: right;\n",
       "    }\n",
       "</style>\n",
       "<table border=\"1\" class=\"dataframe\">\n",
       "  <thead>\n",
       "    <tr style=\"text-align: right;\">\n",
       "      <th></th>\n",
       "      <th>user_id</th>\n",
       "      <th>number of orders</th>\n",
       "    </tr>\n",
       "  </thead>\n",
       "  <tbody>\n",
       "    <tr>\n",
       "      <th>0</th>\n",
       "      <td>1</td>\n",
       "      <td>11</td>\n",
       "    </tr>\n",
       "    <tr>\n",
       "      <th>1</th>\n",
       "      <td>2</td>\n",
       "      <td>15</td>\n",
       "    </tr>\n",
       "    <tr>\n",
       "      <th>2</th>\n",
       "      <td>3</td>\n",
       "      <td>12</td>\n",
       "    </tr>\n",
       "    <tr>\n",
       "      <th>3</th>\n",
       "      <td>4</td>\n",
       "      <td>5</td>\n",
       "    </tr>\n",
       "    <tr>\n",
       "      <th>4</th>\n",
       "      <td>5</td>\n",
       "      <td>5</td>\n",
       "    </tr>\n",
       "    <tr>\n",
       "      <th>...</th>\n",
       "      <td>...</td>\n",
       "      <td>...</td>\n",
       "    </tr>\n",
       "    <tr>\n",
       "      <th>206204</th>\n",
       "      <td>206205</td>\n",
       "      <td>4</td>\n",
       "    </tr>\n",
       "    <tr>\n",
       "      <th>206205</th>\n",
       "      <td>206206</td>\n",
       "      <td>67</td>\n",
       "    </tr>\n",
       "    <tr>\n",
       "      <th>206206</th>\n",
       "      <td>206207</td>\n",
       "      <td>16</td>\n",
       "    </tr>\n",
       "    <tr>\n",
       "      <th>206207</th>\n",
       "      <td>206208</td>\n",
       "      <td>49</td>\n",
       "    </tr>\n",
       "    <tr>\n",
       "      <th>206208</th>\n",
       "      <td>206209</td>\n",
       "      <td>14</td>\n",
       "    </tr>\n",
       "  </tbody>\n",
       "</table>\n",
       "<p>206209 rows × 2 columns</p>\n",
       "</div>"
      ],
      "text/plain": [
       "        user_id  number of orders\n",
       "0             1                11\n",
       "1             2                15\n",
       "2             3                12\n",
       "3             4                 5\n",
       "4             5                 5\n",
       "...         ...               ...\n",
       "206204   206205                 4\n",
       "206205   206206                67\n",
       "206206   206207                16\n",
       "206207   206208                49\n",
       "206208   206209                14\n",
       "\n",
       "[206209 rows x 2 columns]"
      ]
     },
     "execution_count": 47,
     "metadata": {},
     "output_type": "execute_result"
    }
   ],
   "source": [
    "master_df.groupby('user_id')['order_number'].max().reset_index(name='number of orders')"
   ]
  },
  {
   "cell_type": "markdown",
   "id": "d1774929-739b-41e1-8c36-e37befc39b3c",
   "metadata": {},
   "source": [
    "### Visualization"
   ]
  },
  {
   "cell_type": "code",
   "execution_count": 58,
   "id": "2388cf20-04f5-46f7-8e12-b3d44e98bd98",
   "metadata": {},
   "outputs": [
    {
     "data": {
      "text/plain": [
       "Text(0.5, 1.0, 'How many orders are made by a single user?')"
      ]
     },
     "execution_count": 58,
     "metadata": {},
     "output_type": "execute_result"
    },
    {
     "data": {
      "image/png": "[encoded data removed]",
      "text/plain": [
       "<Figure size 1080x720 with 1 Axes>"
      ]
     },
     "metadata": {
      "needs_background": "light"
     },
     "output_type": "display_data"
    }
   ],
   "source": [
    "plt.figure(figsize=(15,10))\n",
    "\n",
    "# Plot 1\n",
    "data = master_df.groupby('user_id')['order_number'].max().reset_index(name='number of orders')\n",
    "ax = sns.histplot( data=data[data['number of orders']<50], x = \"number of orders\", y=None, bins=25)\n",
    "ax.set_title('How many orders are made by a single user?', fontsize=20)\n"
   ]
  },
  {
   "cell_type": "code",
   "execution_count": 17,
   "id": "341fb038-8c4d-49d1-a6cf-291835e53b57",
   "metadata": {},
   "outputs": [
    {
     "data": {
      "text/plain": [
       "Text(0.5, 1.0, 'What is the cart size across orders?')"
      ]
     },
     "execution_count": 17,
     "metadata": {},
     "output_type": "execute_result"
    },
    {
     "data": {
      "image/png": "[encoded data removed]",
      "text/plain": [
       "<Figure size 1080x720 with 1 Axes>"
      ]
     },
     "metadata": {
      "needs_background": "light"
     },
     "output_type": "display_data"
    }
   ],
   "source": [
    "# Plot 2\n",
    "plt.figure(figsize=(15,10))\n",
    "data = master_df.groupby('order_id', as_index = False)['add_to_cart_order'].max()\n",
    "ax = sns.histplot(data[data['add_to_cart_order'] < 40], x = \"add_to_cart_order\" , bins=20)\n",
    "ax.set_title('What is the cart size across orders?', fontsize =20)\n"
   ]
  },
  {
   "cell_type": "code",
   "execution_count": 18,
   "id": "e9463146-f501-4057-b69e-5ad7d84c1a7a",
   "metadata": {},
   "outputs": [],
   "source": [
    "# master_df.groupby('product_name')['product_id'].size().reset_index(name='number of products').sort_values(by='number of products', ascending=False)"
   ]
  },
  {
   "cell_type": "code",
   "execution_count": 19,
   "id": "f9be2d96-67e3-4412-8b4f-a211c16c9bca",
   "metadata": {},
   "outputs": [
    {
     "data": {
      "text/plain": [
       "Text(0.5, 1.0, 'What are the most ordered products?')"
      ]
     },
     "execution_count": 19,
     "metadata": {},
     "output_type": "execute_result"
    },
    {
     "data": {
      "image/png": "[encoded data removed]",
      "text/plain": [
       "<Figure size 1080x720 with 1 Axes>"
      ]
     },
     "metadata": {
      "needs_background": "light"
     },
     "output_type": "display_data"
    }
   ],
   "source": [
    "# Plot 3\n",
    "plt.figure(figsize=(15,10))\n",
    "data = master_df.groupby('product_name')['product_id'].size().reset_index(name='number of products').sort_values(by='number of products', ascending=False)\n",
    "ax = sns.barplot(data=data.head(15), y=\"product_name\", x=\"number of products\", palette=\"Set2\")\n",
    "ax.set_title('What are the most ordered products?', fontsize=20)\n"
   ]
  },
  {
   "cell_type": "code",
   "execution_count": 20,
   "id": "a3338a54-a4c2-48e9-8926-ec8e75fe4b96",
   "metadata": {},
   "outputs": [
    {
     "data": {
      "text/plain": [
       "Text(0.5, 0, 'count')"
      ]
     },
     "execution_count": 20,
     "metadata": {},
     "output_type": "execute_result"
    },
    {
     "data": {
      "image/png": "[encoded data removed]",
      "text/plain": [
       "<Figure size 1080x720 with 1 Axes>"
      ]
     },
     "metadata": {
      "needs_background": "light"
     },
     "output_type": "display_data"
    }
   ],
   "source": [
    "# Plot 4\n",
    "plt.figure(figsize=(15,10))\n",
    "data = master_df.groupby('aisle', as_index = False)['aisle_id'].count().sort_values(by='aisle_id', ascending=False)\n",
    "ax = sns.barplot(data=data.head(15), y=\"aisle\", x=\"aisle_id\", palette=\"Set3\")\n",
    "ax.set_title('Which aisle do users order the most from?', fontsize=20)\n",
    "ax.set_ylabel('')\n",
    "ax.set_xlabel('count')"
   ]
  },
  {
   "cell_type": "markdown",
   "id": "51edd092-e40e-4ede-84a8-0da004390d87",
   "metadata": {},
   "source": [
    "### Correlation"
   ]
  },
  {
   "cell_type": "code",
   "execution_count": 21,
   "id": "5661fb72-87bb-4bbf-a0de-e87ba481ce1f",
   "metadata": {},
   "outputs": [
    {
     "data": {
      "text/html": [
       "<div>\n",
       "<style scoped>\n",
       "    .dataframe tbody tr th:only-of-type {\n",
       "        vertical-align: middle;\n",
       "    }\n",
       "\n",
       "    .dataframe tbody tr th {\n",
       "        vertical-align: top;\n",
       "    }\n",
       "\n",
       "    .dataframe thead th {\n",
       "        text-align: right;\n",
       "    }\n",
       "</style>\n",
       "<table border=\"1\" class=\"dataframe\">\n",
       "  <thead>\n",
       "    <tr style=\"text-align: right;\">\n",
       "      <th></th>\n",
       "      <th>order_id</th>\n",
       "      <th>product_id</th>\n",
       "      <th>add_to_cart_order</th>\n",
       "      <th>reordered</th>\n",
       "      <th>aisle_id</th>\n",
       "      <th>department_id</th>\n",
       "      <th>user_id</th>\n",
       "      <th>order_number</th>\n",
       "      <th>order_dow</th>\n",
       "      <th>order_hour_of_day</th>\n",
       "      <th>days_since_prior_order</th>\n",
       "    </tr>\n",
       "  </thead>\n",
       "  <tbody>\n",
       "    <tr>\n",
       "      <th>order_id</th>\n",
       "      <td>1.000000</td>\n",
       "      <td>-0.000101</td>\n",
       "      <td>-0.000235</td>\n",
       "      <td>-0.000187</td>\n",
       "      <td>-0.000095</td>\n",
       "      <td>-0.000106</td>\n",
       "      <td>-0.000499</td>\n",
       "      <td>-0.000462</td>\n",
       "      <td>0.001204</td>\n",
       "      <td>0.000437</td>\n",
       "      <td>0.000615</td>\n",
       "    </tr>\n",
       "    <tr>\n",
       "      <th>product_id</th>\n",
       "      <td>-0.000101</td>\n",
       "      <td>1.000000</td>\n",
       "      <td>0.005423</td>\n",
       "      <td>0.003833</td>\n",
       "      <td>0.002083</td>\n",
       "      <td>-0.028449</td>\n",
       "      <td>0.000035</td>\n",
       "      <td>-0.001907</td>\n",
       "      <td>-0.002402</td>\n",
       "      <td>0.000976</td>\n",
       "      <td>0.000537</td>\n",
       "    </tr>\n",
       "    <tr>\n",
       "      <th>add_to_cart_order</th>\n",
       "      <td>-0.000235</td>\n",
       "      <td>0.005423</td>\n",
       "      <td>1.000000</td>\n",
       "      <td>-0.133536</td>\n",
       "      <td>0.009517</td>\n",
       "      <td>0.029319</td>\n",
       "      <td>0.000736</td>\n",
       "      <td>-0.003484</td>\n",
       "      <td>-0.009564</td>\n",
       "      <td>-0.014472</td>\n",
       "      <td>0.049738</td>\n",
       "    </tr>\n",
       "    <tr>\n",
       "      <th>reordered</th>\n",
       "      <td>-0.000187</td>\n",
       "      <td>0.003833</td>\n",
       "      <td>-0.133536</td>\n",
       "      <td>1.000000</td>\n",
       "      <td>0.003759</td>\n",
       "      <td>-0.039827</td>\n",
       "      <td>-0.001001</td>\n",
       "      <td>0.303610</td>\n",
       "      <td>-0.006952</td>\n",
       "      <td>-0.023051</td>\n",
       "      <td>-0.030025</td>\n",
       "    </tr>\n",
       "    <tr>\n",
       "      <th>aisle_id</th>\n",
       "      <td>-0.000095</td>\n",
       "      <td>0.002083</td>\n",
       "      <td>0.009517</td>\n",
       "      <td>0.003759</td>\n",
       "      <td>1.000000</td>\n",
       "      <td>0.062167</td>\n",
       "      <td>-0.000070</td>\n",
       "      <td>-0.000361</td>\n",
       "      <td>-0.002038</td>\n",
       "      <td>-0.001128</td>\n",
       "      <td>0.005399</td>\n",
       "    </tr>\n",
       "    <tr>\n",
       "      <th>department_id</th>\n",
       "      <td>-0.000106</td>\n",
       "      <td>-0.028449</td>\n",
       "      <td>0.029319</td>\n",
       "      <td>-0.039827</td>\n",
       "      <td>0.062167</td>\n",
       "      <td>1.000000</td>\n",
       "      <td>0.000029</td>\n",
       "      <td>0.000449</td>\n",
       "      <td>0.004508</td>\n",
       "      <td>-0.008739</td>\n",
       "      <td>0.000743</td>\n",
       "    </tr>\n",
       "    <tr>\n",
       "      <th>user_id</th>\n",
       "      <td>-0.000499</td>\n",
       "      <td>0.000035</td>\n",
       "      <td>0.000736</td>\n",
       "      <td>-0.001001</td>\n",
       "      <td>-0.000070</td>\n",
       "      <td>0.000029</td>\n",
       "      <td>1.000000</td>\n",
       "      <td>-0.000882</td>\n",
       "      <td>-0.001849</td>\n",
       "      <td>-0.000445</td>\n",
       "      <td>0.000689</td>\n",
       "    </tr>\n",
       "    <tr>\n",
       "      <th>order_number</th>\n",
       "      <td>-0.000462</td>\n",
       "      <td>-0.001907</td>\n",
       "      <td>-0.003484</td>\n",
       "      <td>0.303610</td>\n",
       "      <td>-0.000361</td>\n",
       "      <td>0.000449</td>\n",
       "      <td>-0.000882</td>\n",
       "      <td>1.000000</td>\n",
       "      <td>0.015582</td>\n",
       "      <td>-0.039527</td>\n",
       "      <td>-0.261471</td>\n",
       "    </tr>\n",
       "    <tr>\n",
       "      <th>order_dow</th>\n",
       "      <td>0.001204</td>\n",
       "      <td>-0.002402</td>\n",
       "      <td>-0.009564</td>\n",
       "      <td>-0.006952</td>\n",
       "      <td>-0.002038</td>\n",
       "      <td>0.004508</td>\n",
       "      <td>-0.001849</td>\n",
       "      <td>0.015582</td>\n",
       "      <td>1.000000</td>\n",
       "      <td>0.011885</td>\n",
       "      <td>-0.026756</td>\n",
       "    </tr>\n",
       "    <tr>\n",
       "      <th>order_hour_of_day</th>\n",
       "      <td>0.000437</td>\n",
       "      <td>0.000976</td>\n",
       "      <td>-0.014472</td>\n",
       "      <td>-0.023051</td>\n",
       "      <td>-0.001128</td>\n",
       "      <td>-0.008739</td>\n",
       "      <td>-0.000445</td>\n",
       "      <td>-0.039527</td>\n",
       "      <td>0.011885</td>\n",
       "      <td>1.000000</td>\n",
       "      <td>0.001097</td>\n",
       "    </tr>\n",
       "    <tr>\n",
       "      <th>days_since_prior_order</th>\n",
       "      <td>0.000615</td>\n",
       "      <td>0.000537</td>\n",
       "      <td>0.049738</td>\n",
       "      <td>-0.030025</td>\n",
       "      <td>0.005399</td>\n",
       "      <td>0.000743</td>\n",
       "      <td>0.000689</td>\n",
       "      <td>-0.261471</td>\n",
       "      <td>-0.026756</td>\n",
       "      <td>0.001097</td>\n",
       "      <td>1.000000</td>\n",
       "    </tr>\n",
       "  </tbody>\n",
       "</table>\n",
       "</div>"
      ],
      "text/plain": [
       "                        order_id  product_id  add_to_cart_order  reordered  \\\n",
       "order_id                1.000000   -0.000101          -0.000235  -0.000187   \n",
       "product_id             -0.000101    1.000000           0.005423   0.003833   \n",
       "add_to_cart_order      -0.000235    0.005423           1.000000  -0.133536   \n",
       "reordered              -0.000187    0.003833          -0.133536   1.000000   \n",
       "aisle_id               -0.000095    0.002083           0.009517   0.003759   \n",
       "department_id          -0.000106   -0.028449           0.029319  -0.039827   \n",
       "user_id                -0.000499    0.000035           0.000736  -0.001001   \n",
       "order_number           -0.000462   -0.001907          -0.003484   0.303610   \n",
       "order_dow               0.001204   -0.002402          -0.009564  -0.006952   \n",
       "order_hour_of_day       0.000437    0.000976          -0.014472  -0.023051   \n",
       "days_since_prior_order  0.000615    0.000537           0.049738  -0.030025   \n",
       "\n",
       "                        aisle_id  department_id   user_id  order_number  \\\n",
       "order_id               -0.000095      -0.000106 -0.000499     -0.000462   \n",
       "product_id              0.002083      -0.028449  0.000035     -0.001907   \n",
       "add_to_cart_order       0.009517       0.029319  0.000736     -0.003484   \n",
       "reordered               0.003759      -0.039827 -0.001001      0.303610   \n",
       "aisle_id                1.000000       0.062167 -0.000070     -0.000361   \n",
       "department_id           0.062167       1.000000  0.000029      0.000449   \n",
       "user_id                -0.000070       0.000029  1.000000     -0.000882   \n",
       "order_number           -0.000361       0.000449 -0.000882      1.000000   \n",
       "order_dow              -0.002038       0.004508 -0.001849      0.015582   \n",
       "order_hour_of_day      -0.001128      -0.008739 -0.000445     -0.039527   \n",
       "days_since_prior_order  0.005399       0.000743  0.000689     -0.261471   \n",
       "\n",
       "                        order_dow  order_hour_of_day  days_since_prior_order  \n",
       "order_id                 0.001204           0.000437                0.000615  \n",
       "product_id              -0.002402           0.000976                0.000537  \n",
       "add_to_cart_order       -0.009564          -0.014472                0.049738  \n",
       "reordered               -0.006952          -0.023051               -0.030025  \n",
       "aisle_id                -0.002038          -0.001128                0.005399  \n",
       "department_id            0.004508          -0.008739                0.000743  \n",
       "user_id                 -0.001849          -0.000445                0.000689  \n",
       "order_number             0.015582          -0.039527               -0.261471  \n",
       "order_dow                1.000000           0.011885               -0.026756  \n",
       "order_hour_of_day        0.011885           1.000000                0.001097  \n",
       "days_since_prior_order  -0.026756           0.001097                1.000000  "
      ]
     },
     "execution_count": 21,
     "metadata": {},
     "output_type": "execute_result"
    }
   ],
   "source": [
    "master_df.corr()"
   ]
  },
  {
   "cell_type": "code",
   "execution_count": 22,
   "id": "2cb1fe7e-a89b-418a-a257-30b8f2f1dd52",
   "metadata": {},
   "outputs": [
    {
     "data": {
      "text/plain": [
       "<AxesSubplot:>"
      ]
     },
     "execution_count": 22,
     "metadata": {},
     "output_type": "execute_result"
    },
    {
     "data": {
      "image/png": "[encoded data removed]",
      "text/plain": [
       "<Figure size 1440x720 with 2 Axes>"
      ]
     },
     "metadata": {
      "needs_background": "light"
     },
     "output_type": "display_data"
    }
   ],
   "source": [
    "plt.figure(figsize=(20,10))\n",
    "sns.heatmap(master_df.corr(), annot=True)"
   ]
  },
  {
   "cell_type": "code",
   "execution_count": 23,
   "id": "ad385619-04ca-4f80-a6c3-07ceed61c596",
   "metadata": {},
   "outputs": [
    {
     "data": {
      "text/plain": [
       "prior    32434489\n",
       "train     1384617\n",
       "Name: eval_set, dtype: int64"
      ]
     },
     "execution_count": 23,
     "metadata": {},
     "output_type": "execute_result"
    }
   ],
   "source": [
    "master_df.eval_set.value_counts()"
   ]
  },
  {
   "cell_type": "markdown",
   "id": "dfc80789-4935-4cb6-9521-e94e9b2c2f5c",
   "metadata": {},
   "source": [
    "## Feature Engineering "
   ]
  },
  {
   "cell_type": "code",
   "execution_count": 24,
   "id": "902bb606-16f3-4851-9cd4-a022d4eb6357",
   "metadata": {},
   "outputs": [
    {
     "data": {
      "text/html": [
       "<div>\n",
       "<style scoped>\n",
       "    .dataframe tbody tr th:only-of-type {\n",
       "        vertical-align: middle;\n",
       "    }\n",
       "\n",
       "    .dataframe tbody tr th {\n",
       "        vertical-align: top;\n",
       "    }\n",
       "\n",
       "    .dataframe thead th {\n",
       "        text-align: right;\n",
       "    }\n",
       "</style>\n",
       "<table border=\"1\" class=\"dataframe\">\n",
       "  <thead>\n",
       "    <tr style=\"text-align: right;\">\n",
       "      <th></th>\n",
       "      <th>p_total</th>\n",
       "      <th>p_total_reordered</th>\n",
       "      <th>p_mean_cart_pos</th>\n",
       "      <th>p_reorder_ratio</th>\n",
       "    </tr>\n",
       "    <tr>\n",
       "      <th>product_id</th>\n",
       "      <th></th>\n",
       "      <th></th>\n",
       "      <th></th>\n",
       "      <th></th>\n",
       "    </tr>\n",
       "  </thead>\n",
       "  <tbody>\n",
       "    <tr>\n",
       "      <th>1</th>\n",
       "      <td>1928</td>\n",
       "      <td>1185</td>\n",
       "      <td>5.845954</td>\n",
       "      <td>0.614627</td>\n",
       "    </tr>\n",
       "    <tr>\n",
       "      <th>2</th>\n",
       "      <td>94</td>\n",
       "      <td>13</td>\n",
       "      <td>10.138298</td>\n",
       "      <td>0.138298</td>\n",
       "    </tr>\n",
       "    <tr>\n",
       "      <th>3</th>\n",
       "      <td>283</td>\n",
       "      <td>209</td>\n",
       "      <td>6.374558</td>\n",
       "      <td>0.738516</td>\n",
       "    </tr>\n",
       "    <tr>\n",
       "      <th>4</th>\n",
       "      <td>351</td>\n",
       "      <td>161</td>\n",
       "      <td>9.472934</td>\n",
       "      <td>0.458689</td>\n",
       "    </tr>\n",
       "    <tr>\n",
       "      <th>5</th>\n",
       "      <td>16</td>\n",
       "      <td>10</td>\n",
       "      <td>6.375000</td>\n",
       "      <td>0.625000</td>\n",
       "    </tr>\n",
       "    <tr>\n",
       "      <th>...</th>\n",
       "      <td>...</td>\n",
       "      <td>...</td>\n",
       "      <td>...</td>\n",
       "      <td>...</td>\n",
       "    </tr>\n",
       "    <tr>\n",
       "      <th>49684</th>\n",
       "      <td>9</td>\n",
       "      <td>1</td>\n",
       "      <td>4.333333</td>\n",
       "      <td>0.111111</td>\n",
       "    </tr>\n",
       "    <tr>\n",
       "      <th>49685</th>\n",
       "      <td>49</td>\n",
       "      <td>6</td>\n",
       "      <td>9.571429</td>\n",
       "      <td>0.122449</td>\n",
       "    </tr>\n",
       "    <tr>\n",
       "      <th>49686</th>\n",
       "      <td>127</td>\n",
       "      <td>89</td>\n",
       "      <td>7.433071</td>\n",
       "      <td>0.700787</td>\n",
       "    </tr>\n",
       "    <tr>\n",
       "      <th>49687</th>\n",
       "      <td>14</td>\n",
       "      <td>6</td>\n",
       "      <td>7.071429</td>\n",
       "      <td>0.428571</td>\n",
       "    </tr>\n",
       "    <tr>\n",
       "      <th>49688</th>\n",
       "      <td>93</td>\n",
       "      <td>16</td>\n",
       "      <td>9.989247</td>\n",
       "      <td>0.172043</td>\n",
       "    </tr>\n",
       "  </tbody>\n",
       "</table>\n",
       "<p>49685 rows × 4 columns</p>\n",
       "</div>"
      ],
      "text/plain": [
       "            p_total  p_total_reordered  p_mean_cart_pos  p_reorder_ratio\n",
       "product_id                                                              \n",
       "1              1928               1185         5.845954         0.614627\n",
       "2                94                 13        10.138298         0.138298\n",
       "3               283                209         6.374558         0.738516\n",
       "4               351                161         9.472934         0.458689\n",
       "5                16                 10         6.375000         0.625000\n",
       "...             ...                ...              ...              ...\n",
       "49684             9                  1         4.333333         0.111111\n",
       "49685            49                  6         9.571429         0.122449\n",
       "49686           127                 89         7.433071         0.700787\n",
       "49687            14                  6         7.071429         0.428571\n",
       "49688            93                 16         9.989247         0.172043\n",
       "\n",
       "[49685 rows x 4 columns]"
      ]
     },
     "execution_count": 24,
     "metadata": {},
     "output_type": "execute_result"
    }
   ],
   "source": [
    "product_features = pd.DataFrame()\n",
    "\n",
    "# How many times has this product been ordered? = total orders\n",
    "product_features['p_total'] = master_df.groupby('product_id')['product_id'].count()\n",
    "\n",
    "# How many times has this product been reordered? = total reorder\n",
    "product_features['p_total_reordered'] = master_df.groupby('product_id')['reordered'].sum()\n",
    "\n",
    "# Mean cart position of each product\n",
    "product_features['p_mean_cart_pos'] = master_df.groupby('product_id')['add_to_cart_order'].mean()\n",
    "\n",
    "# Reorder ratio\n",
    "product_features['p_reorder_ratio']= product_features['p_total_reordered']/product_features['p_total']\n",
    "\n",
    "product_features"
   ]
  },
  {
   "cell_type": "code",
   "execution_count": 25,
   "id": "a04a858d-2d4b-42cd-9a11-0d8df10d18b8",
   "metadata": {},
   "outputs": [
    {
     "data": {
      "text/html": [
       "<div>\n",
       "<style scoped>\n",
       "    .dataframe tbody tr th:only-of-type {\n",
       "        vertical-align: middle;\n",
       "    }\n",
       "\n",
       "    .dataframe tbody tr th {\n",
       "        vertical-align: top;\n",
       "    }\n",
       "\n",
       "    .dataframe thead th {\n",
       "        text-align: right;\n",
       "    }\n",
       "</style>\n",
       "<table border=\"1\" class=\"dataframe\">\n",
       "  <thead>\n",
       "    <tr style=\"text-align: right;\">\n",
       "      <th></th>\n",
       "      <th>u_orders</th>\n",
       "      <th>u_mean_days_since_prior</th>\n",
       "      <th>u_mean_cart_size</th>\n",
       "    </tr>\n",
       "    <tr>\n",
       "      <th>user_id</th>\n",
       "      <th></th>\n",
       "      <th></th>\n",
       "      <th></th>\n",
       "    </tr>\n",
       "  </thead>\n",
       "  <tbody>\n",
       "    <tr>\n",
       "      <th>1</th>\n",
       "      <td>11</td>\n",
       "      <td>17.828571</td>\n",
       "      <td>6.363636</td>\n",
       "    </tr>\n",
       "    <tr>\n",
       "      <th>2</th>\n",
       "      <td>15</td>\n",
       "      <td>16.973451</td>\n",
       "      <td>15.066667</td>\n",
       "    </tr>\n",
       "    <tr>\n",
       "      <th>3</th>\n",
       "      <td>12</td>\n",
       "      <td>10.181818</td>\n",
       "      <td>7.333333</td>\n",
       "    </tr>\n",
       "    <tr>\n",
       "      <th>4</th>\n",
       "      <td>5</td>\n",
       "      <td>11.944444</td>\n",
       "      <td>3.600000</td>\n",
       "    </tr>\n",
       "    <tr>\n",
       "      <th>5</th>\n",
       "      <td>5</td>\n",
       "      <td>9.369565</td>\n",
       "      <td>9.200000</td>\n",
       "    </tr>\n",
       "    <tr>\n",
       "      <th>...</th>\n",
       "      <td>...</td>\n",
       "      <td>...</td>\n",
       "      <td>...</td>\n",
       "    </tr>\n",
       "    <tr>\n",
       "      <th>206205</th>\n",
       "      <td>4</td>\n",
       "      <td>9.803922</td>\n",
       "      <td>12.750000</td>\n",
       "    </tr>\n",
       "    <tr>\n",
       "      <th>206206</th>\n",
       "      <td>67</td>\n",
       "      <td>3.985965</td>\n",
       "      <td>4.253731</td>\n",
       "    </tr>\n",
       "    <tr>\n",
       "      <th>206207</th>\n",
       "      <td>16</td>\n",
       "      <td>13.278027</td>\n",
       "      <td>13.937500</td>\n",
       "    </tr>\n",
       "    <tr>\n",
       "      <th>206208</th>\n",
       "      <td>49</td>\n",
       "      <td>7.310192</td>\n",
       "      <td>13.816327</td>\n",
       "    </tr>\n",
       "    <tr>\n",
       "      <th>206209</th>\n",
       "      <td>14</td>\n",
       "      <td>18.919708</td>\n",
       "      <td>9.785714</td>\n",
       "    </tr>\n",
       "  </tbody>\n",
       "</table>\n",
       "<p>206209 rows × 3 columns</p>\n",
       "</div>"
      ],
      "text/plain": [
       "         u_orders  u_mean_days_since_prior  u_mean_cart_size\n",
       "user_id                                                     \n",
       "1              11                17.828571          6.363636\n",
       "2              15                16.973451         15.066667\n",
       "3              12                10.181818          7.333333\n",
       "4               5                11.944444          3.600000\n",
       "5               5                 9.369565          9.200000\n",
       "...           ...                      ...               ...\n",
       "206205          4                 9.803922         12.750000\n",
       "206206         67                 3.985965          4.253731\n",
       "206207         16                13.278027         13.937500\n",
       "206208         49                 7.310192         13.816327\n",
       "206209         14                18.919708          9.785714\n",
       "\n",
       "[206209 rows x 3 columns]"
      ]
     },
     "execution_count": 25,
     "metadata": {},
     "output_type": "execute_result"
    }
   ],
   "source": [
    "users = pd.DataFrame()\n",
    "\n",
    "# Total number of orders per user\n",
    "users['u_orders'] = master_df.groupby('user_id')['order_number'].max()\n",
    "\n",
    "# Mean days since prior order per user\n",
    "users['u_mean_days_since_prior'] = master_df.groupby(['user_id'])['days_since_prior_order'].mean()\n",
    "\n",
    "# Mean cart size per user\n",
    "u_prod_total = master_df.groupby('user_id')['product_id'].count()\n",
    "users['u_mean_cart_size'] = u_prod_total/users['u_orders']\n",
    "\n",
    "users"
   ]
  },
  {
   "cell_type": "code",
   "execution_count": 26,
   "id": "0c5a5f9a-d2de-483a-a70f-f8a26e43f8e0",
   "metadata": {},
   "outputs": [
    {
     "data": {
      "text/plain": [
       "Index(['order_id', 'product_id', 'add_to_cart_order', 'reordered',\n",
       "       'product_name', 'aisle_id', 'department_id', 'aisle', 'department',\n",
       "       'user_id', 'eval_set', 'order_number', 'order_dow', 'order_hour_of_day',\n",
       "       'days_since_prior_order', 'u_orders', 'u_mean_days_since_prior',\n",
       "       'u_mean_cart_size', 'p_total', 'p_total_reordered', 'p_mean_cart_pos',\n",
       "       'p_reorder_ratio'],\n",
       "      dtype='object')"
      ]
     },
     "execution_count": 26,
     "metadata": {},
     "output_type": "execute_result"
    }
   ],
   "source": [
    "# Combine new Users and Products features\n",
    "\n",
    "u_p_master_df = master_df.merge(right=users, on='user_id')\n",
    "u_p_master_df = u_p_master_df.merge(right=product_features, on='product_id')\n",
    "\n",
    "# u_p_master_df.sort_values(by='order_id').head()\n",
    "u_p_master_df.columns"
   ]
  },
  {
   "cell_type": "markdown",
   "id": "1af95f68-927b-4efa-9cf9-0590189c9369",
   "metadata": {},
   "source": [
    "## Test and Train split"
   ]
  },
  {
   "cell_type": "code",
   "execution_count": 27,
   "id": "afa00ebd-70b4-406b-a943-d1e349c6f896",
   "metadata": {},
   "outputs": [
    {
     "name": "stdout",
     "output_type": "stream",
     "text": [
      "(1384617, 22)\n"
     ]
    }
   ],
   "source": [
    "X = u_p_master_df[u_p_master_df.eval_set == 'train']\n",
    "print(X.shape)"
   ]
  },
  {
   "cell_type": "code",
   "execution_count": 28,
   "id": "7bd9d22c-16c9-4f2e-9d3c-cf2c30e58694",
   "metadata": {},
   "outputs": [],
   "source": [
    "#Correlation after feature engineering and \n",
    "# X = X_train[['reordered','days_since_prior_order','u_orders','u_mean_days_since_prior','u_mean_cart_size','p_total','p_total_reordered','p_mean_cart_pos','p_reorder_ratio']]\n",
    "# plt.figure(figsize=(20,10))\n",
    "# sns.heatmap(X.corr(), annot=True)"
   ]
  },
  {
   "cell_type": "markdown",
   "id": "7075dead-cfc8-4d9d-a0e4-e80c084e0511",
   "metadata": {},
   "source": [
    "## Modelling"
   ]
  },
  {
   "cell_type": "markdown",
   "id": "f64ab4e6-119c-4854-a745-8160a54d30e0",
   "metadata": {},
   "source": [
    "\n",
    "### Logistic Regression"
   ]
  },
  {
   "cell_type": "code",
   "execution_count": 29,
   "id": "f6622d46-1991-407e-b127-c127b88af784",
   "metadata": {},
   "outputs": [
    {
     "data": {
      "text/plain": [
       "0.6521288212760794"
      ]
     },
     "execution_count": 29,
     "metadata": {},
     "output_type": "execute_result"
    }
   ],
   "source": [
    "from scipy import stats, special\n",
    "from sklearn import model_selection, metrics, linear_model, datasets, feature_selection\n",
    "from sklearn.metrics import classification_report, confusion_matrix\n",
    "\n",
    "\n",
    "y = X['reordered']\n",
    "\n",
    "X_train, X_test, y_train, y_test = model_selection.train_test_split(X, y, random_state=42)\n",
    "lr = linear_model.LogisticRegression(solver='liblinear')\n",
    "\n",
    "X_train_features = X_train[['days_since_prior_order','u_orders','u_mean_days_since_prior','u_mean_cart_size','p_total','p_total_reordered','p_mean_cart_pos','p_reorder_ratio']]\n",
    "\n",
    "\n",
    "lr.fit(X_train_features, y_train)\n",
    "lr.score(X_train_features, y_train)"
   ]
  },
  {
   "cell_type": "code",
   "execution_count": 30,
   "id": "e289110b-501e-4bd5-ba56-fd6852dadc44",
   "metadata": {},
   "outputs": [
    {
     "name": "stdout",
     "output_type": "stream",
     "text": [
      "[[ 49808  89630]\n",
      " [ 31226 175491]]\n"
     ]
    }
   ],
   "source": [
    "X_test_features = X_test[['days_since_prior_order','u_orders','u_mean_days_since_prior','u_mean_cart_size','p_total','p_total_reordered','p_mean_cart_pos','p_reorder_ratio']]\n",
    "\n",
    "y_pred = lr.predict(X_test_features)\n",
    "confusion_matrix = metrics.confusion_matrix(y_test, y_pred)\n",
    "print(confusion_matrix)"
   ]
  },
  {
   "cell_type": "code",
   "execution_count": 31,
   "id": "0902671d-e77d-4eef-bcec-7e5d90c573ce",
   "metadata": {},
   "outputs": [
    {
     "name": "stdout",
     "output_type": "stream",
     "text": [
      "\n",
      "Accuracy:  65.08616082390837\n",
      "Precision:  66.1927949879489\n",
      "Recall:  84.89432412428586\n"
     ]
    }
   ],
   "source": [
    "print('\\nAccuracy: ', lr.score(X_test_features, y_test)*100)\n",
    "print('Precision: ', confusion_matrix[1,1].astype(float)/(confusion_matrix[0,1].astype(float)+confusion_matrix[1,1].astype(float))*100)\n",
    "print('Recall: ', confusion_matrix[1,1].astype(float)/(confusion_matrix[1,0].astype(float)+confusion_matrix[1,1].astype(float))*100)\n"
   ]
  },
  {
   "cell_type": "code",
   "execution_count": 32,
   "id": "2727898d-3518-4fc0-9a56-996f6bb3cc5a",
   "metadata": {},
   "outputs": [],
   "source": [
    "# master_df['prediction_reordered'] = model.predict(X_train)"
   ]
  },
  {
   "cell_type": "markdown",
   "id": "247d5851-d11b-4133-841a-3754ac15a097",
   "metadata": {},
   "source": [
    "### Decision Tree"
   ]
  },
  {
   "cell_type": "code",
   "execution_count": 33,
   "id": "c5d7a2f7-544e-4f5b-9736-b71737ce72ab",
   "metadata": {},
   "outputs": [
    {
     "data": {
      "text/plain": [
       "0.6933522844360217"
      ]
     },
     "execution_count": 33,
     "metadata": {},
     "output_type": "execute_result"
    }
   ],
   "source": [
    "from sklearn import tree\n",
    "\n",
    "bt_tree = tree.DecisionTreeClassifier(max_depth=10)\n",
    "bt_tree.fit(X_train_features, y_train)\n",
    "bt_tree.score(X_train_features, y_train)\n"
   ]
  },
  {
   "cell_type": "code",
   "execution_count": 34,
   "id": "00e71ee9-0172-4441-85a8-41660c1ebb38",
   "metadata": {},
   "outputs": [
    {
     "name": "stdout",
     "output_type": "stream",
     "text": [
      "0.6897719229824789\n"
     ]
    }
   ],
   "source": [
    "y_pred = bt_tree.predict(X_test_features)\n",
    "print(metrics.accuracy_score(y_test, y_pred))"
   ]
  },
  {
   "cell_type": "code",
   "execution_count": 35,
   "id": "21716231-970c-4b3b-a185-e037b9b123b9",
   "metadata": {},
   "outputs": [
    {
     "name": "stdout",
     "output_type": "stream",
     "text": [
      "[[ 73208  66230]\n",
      " [ 41157 165560]]\n"
     ]
    }
   ],
   "source": [
    "confusion_matrix = metrics.confusion_matrix(y_test, y_pred)\n",
    "print(confusion_matrix)"
   ]
  },
  {
   "cell_type": "code",
   "execution_count": 36,
   "id": "4975ccd6-5b89-4ebe-a74d-ae999e31ab75",
   "metadata": {},
   "outputs": [
    {
     "name": "stdout",
     "output_type": "stream",
     "text": [
      "\n",
      "Accuracy:  68.97719229824789\n",
      "Precision:  71.42672246429959\n",
      "Recall:  80.09017158724247\n"
     ]
    }
   ],
   "source": [
    "print('\\nAccuracy: ', bt_tree.score(X_test_features, y_test)*100)\n",
    "print('Precision: ', confusion_matrix[1,1].astype(float)/(confusion_matrix[0,1].astype(float)+confusion_matrix[1,1].astype(float))*100)\n",
    "print('Recall: ', confusion_matrix[1,1].astype(float)/(confusion_matrix[1,0].astype(float)+confusion_matrix[1,1].astype(float))*100)\n",
    "# print('\\n', classification_report(y_test, y_pred))"
   ]
  },
  {
   "cell_type": "markdown",
   "id": "9fb8a9a2-ef7e-42c2-a244-f51ac11d4b79",
   "metadata": {},
   "source": [
    "## Conclusion"
   ]
  },
  {
   "cell_type": "markdown",
   "id": "2164e054-c7b8-407f-853b-e87cdd4c4f73",
   "metadata": {},
   "source": [
    "### Sample submission"
   ]
  },
  {
   "cell_type": "code",
   "execution_count": 37,
   "id": "ceff3a59-ee29-4ede-909f-50bb1603b60e",
   "metadata": {},
   "outputs": [
    {
     "name": "stderr",
     "output_type": "stream",
     "text": [
      "/var/folders/n_/l9fqwyz92311dprrhxw7tzyh0000gn/T/ipykernel_47228/2097007031.py:1: SettingWithCopyWarning: \n",
      "A value is trying to be set on a copy of a slice from a DataFrame.\n",
      "Try using .loc[row_indexer,col_indexer] = value instead\n",
      "\n",
      "See the caveats in the documentation: https://pandas.pydata.org/pandas-docs/stable/user_guide/indexing.html#returning-a-view-versus-a-copy\n",
      "  X_test['reordered_pred']=bt_tree.predict(X_test_features)\n"
     ]
    }
   ],
   "source": [
    "X_test['reordered_pred']=bt_tree.predict(X_test_features)"
   ]
  },
  {
   "cell_type": "code",
   "execution_count": 61,
   "id": "321a9907-f79c-4764-9f5b-d00a18506ef3",
   "metadata": {},
   "outputs": [],
   "source": [
    "submission_pred = X_test[X_test['reordered']==1].groupby('order_id')['product_id'].agg(list).reset_index(name='real products')\n",
    "submission_real = X_test[X_test['reordered_pred']==1].groupby('order_id')['product_id'].agg(list).reset_index(name='predicited products')\n",
    "submission = pd.merge(left=submission_pred, right=submission_real, on='order_id')"
   ]
  },
  {
   "cell_type": "code",
   "execution_count": 62,
   "id": "e95c501f-89dc-4450-8320-cb925573bd48",
   "metadata": {},
   "outputs": [
    {
     "data": {
      "text/html": [
       "<div>\n",
       "<style scoped>\n",
       "    .dataframe tbody tr th:only-of-type {\n",
       "        vertical-align: middle;\n",
       "    }\n",
       "\n",
       "    .dataframe tbody tr th {\n",
       "        vertical-align: top;\n",
       "    }\n",
       "\n",
       "    .dataframe thead th {\n",
       "        text-align: right;\n",
       "    }\n",
       "</style>\n",
       "<table border=\"1\" class=\"dataframe\">\n",
       "  <thead>\n",
       "    <tr style=\"text-align: right;\">\n",
       "      <th></th>\n",
       "      <th>order_id</th>\n",
       "      <th>real products</th>\n",
       "      <th>predicited products</th>\n",
       "    </tr>\n",
       "  </thead>\n",
       "  <tbody>\n",
       "    <tr>\n",
       "      <th>0</th>\n",
       "      <td>36</td>\n",
       "      <td>[34497, 43086, 19660]</td>\n",
       "      <td>[43086, 19660]</td>\n",
       "    </tr>\n",
       "    <tr>\n",
       "      <th>1</th>\n",
       "      <td>98</td>\n",
       "      <td>[45007, 20520, 18117, 15995, 46720, 41387, 27683, 9373, 47601, 13176, 34065, 34126, 27509]</td>\n",
       "      <td>[45007, 20520, 18117, 15995, 46720, 41387, 27683, 9373, 47601, 13176, 34065, 34126, 27509]</td>\n",
       "    </tr>\n",
       "    <tr>\n",
       "      <th>2</th>\n",
       "      <td>218</td>\n",
       "      <td>[5578, 1194]</td>\n",
       "      <td>[1194]</td>\n",
       "    </tr>\n",
       "    <tr>\n",
       "      <th>3</th>\n",
       "      <td>393</td>\n",
       "      <td>[16797]</td>\n",
       "      <td>[16797]</td>\n",
       "    </tr>\n",
       "    <tr>\n",
       "      <th>4</th>\n",
       "      <td>631</td>\n",
       "      <td>[21137]</td>\n",
       "      <td>[31717, 21137, 7509, 12545]</td>\n",
       "    </tr>\n",
       "    <tr>\n",
       "      <th>...</th>\n",
       "      <td>...</td>\n",
       "      <td>...</td>\n",
       "      <td>...</td>\n",
       "    </tr>\n",
       "    <tr>\n",
       "      <th>75481</th>\n",
       "      <td>3420979</td>\n",
       "      <td>[185]</td>\n",
       "      <td>[19029]</td>\n",
       "    </tr>\n",
       "    <tr>\n",
       "      <th>75482</th>\n",
       "      <td>3420996</td>\n",
       "      <td>[14947, 27423]</td>\n",
       "      <td>[14947, 27423, 1891, 29118, 36205]</td>\n",
       "    </tr>\n",
       "    <tr>\n",
       "      <th>75483</th>\n",
       "      <td>3420998</td>\n",
       "      <td>[11520, 8277]</td>\n",
       "      <td>[11520, 8277, 38383]</td>\n",
       "    </tr>\n",
       "    <tr>\n",
       "      <th>75484</th>\n",
       "      <td>3421056</td>\n",
       "      <td>[21709]</td>\n",
       "      <td>[21709]</td>\n",
       "    </tr>\n",
       "    <tr>\n",
       "      <th>75485</th>\n",
       "      <td>3421058</td>\n",
       "      <td>[6244, 15629]</td>\n",
       "      <td>[6244, 15629]</td>\n",
       "    </tr>\n",
       "  </tbody>\n",
       "</table>\n",
       "<p>75486 rows × 3 columns</p>\n",
       "</div>"
      ],
      "text/plain": [
       "       order_id  \\\n",
       "0            36   \n",
       "1            98   \n",
       "2           218   \n",
       "3           393   \n",
       "4           631   \n",
       "...         ...   \n",
       "75481   3420979   \n",
       "75482   3420996   \n",
       "75483   3420998   \n",
       "75484   3421056   \n",
       "75485   3421058   \n",
       "\n",
       "                                                                                    real products  \\\n",
       "0                                                                           [34497, 43086, 19660]   \n",
       "1      [45007, 20520, 18117, 15995, 46720, 41387, 27683, 9373, 47601, 13176, 34065, 34126, 27509]   \n",
       "2                                                                                    [5578, 1194]   \n",
       "3                                                                                         [16797]   \n",
       "4                                                                                         [21137]   \n",
       "...                                                                                           ...   \n",
       "75481                                                                                       [185]   \n",
       "75482                                                                              [14947, 27423]   \n",
       "75483                                                                               [11520, 8277]   \n",
       "75484                                                                                     [21709]   \n",
       "75485                                                                               [6244, 15629]   \n",
       "\n",
       "                                                                              predicited products  \n",
       "0                                                                                  [43086, 19660]  \n",
       "1      [45007, 20520, 18117, 15995, 46720, 41387, 27683, 9373, 47601, 13176, 34065, 34126, 27509]  \n",
       "2                                                                                          [1194]  \n",
       "3                                                                                         [16797]  \n",
       "4                                                                     [31717, 21137, 7509, 12545]  \n",
       "...                                                                                           ...  \n",
       "75481                                                                                     [19029]  \n",
       "75482                                                          [14947, 27423, 1891, 29118, 36205]  \n",
       "75483                                                                        [11520, 8277, 38383]  \n",
       "75484                                                                                     [21709]  \n",
       "75485                                                                               [6244, 15629]  \n",
       "\n",
       "[75486 rows x 3 columns]"
      ]
     },
     "execution_count": 62,
     "metadata": {},
     "output_type": "execute_result"
    }
   ],
   "source": [
    "pd.set_option('display.max_colwidth', None)\n",
    "submission"
   ]
  },
  {
   "cell_type": "markdown",
   "id": "ff2b542d-14a2-4137-be7c-a4216e91aaef",
   "metadata": {},
   "source": [
    "### Model selection"
   ]
  },
  {
   "cell_type": "markdown",
   "id": "ddff5d01-2c09-4e3e-8ee7-91aabb138a87",
   "metadata": {},
   "source": [
    "Precision vs Recall tradeoff:\n",
    "\n",
    "Since we want to make sure that we reduce the type II error, the higher recall classifier (i.e logistic regression multiple features) is preferred because it has fewer false negatives.\n",
    "\n",
    "We dont mind precision being less because this would mean that more products were classfied as reorderd than the true predicted products. We can still use this in a recommeneder system without hurting bottom line. However, predicting products falsely as not re-ordered when in fact it was ordered impacts revenue significantly for future predictions.  "
   ]
  },
  {
   "cell_type": "markdown",
   "id": "6bdfbea1-8805-4119-9a37-fb36aa1cf61e",
   "metadata": {},
   "source": [
    "### Future goals"
   ]
  },
  {
   "cell_type": "markdown",
   "id": "d47894b0-1777-47d1-85d4-3de46d03b2f2",
   "metadata": {},
   "source": [
    "How to use this classifier effectively:\n",
    "1. Increase loyalty and develop habits by marketing high reordered products\n",
    "2. Maximize profits by increasing frequency of customers - targeting low order/high cart size customers \n",
    "3. Group certain products together for easy ordering based on customers\n",
    "\n",
    "\n",
    "Use other columns to create new features for prediction:\n",
    "1. Day of the week \n",
    "2. Hour of the day\n",
    "3. Product cart position\n"
   ]
  },
  {
   "cell_type": "code",
   "execution_count": null,
   "id": "a29ccce6-8dce-4805-bc98-6260ff1c8849",
   "metadata": {},
   "outputs": [],
   "source": []
  }
 ],
 "metadata": {
  "kernelspec": {
   "display_name": "Python 3 (ipykernel)",
   "language": "python",
   "name": "python3"
  },
  "language_info": {
   "codemirror_mode": {
    "name": "ipython",
    "version": 3
   },
   "file_extension": ".py",
   "mimetype": "text/x-python",
   "name": "python",
   "nbconvert_exporter": "python",
   "pygments_lexer": "ipython3",
   "version": "3.9.7"
  }
 },
 "nbformat": 4,
 "nbformat_minor": 5
}
